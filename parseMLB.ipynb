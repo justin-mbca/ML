{
 "cells": [
  {
   "cell_type": "code",
   "execution_count": null,
   "metadata": {},
   "outputs": [],
   "source": [
    "import requests\n",
    "\n",
    "def get_mlb_data():\n",
    "    # Define the API endpoint URL\n",
    "    url = \"https://statsapi.mlb.com/api/v1/endpoint\"  # Replace \"endpoint\" with the specific endpoint you want to access\n",
    "\n",
    "    # Add any necessary parameters to the API request\n",
    "    params = {\n",
    "        \"param1\": \"value1\",\n",
    "        \"param2\": \"value2\"\n",
    "    }\n",
    "\n",
    "    try:\n",
    "        # Send the API request and retrieve the response\n",
    "        response = requests.get(url, params=params)\n",
    "\n",
    "        # Check if the request was successful (status code 200)\n",
    "        if response.status_code == 200:\n",
    "            # Parse the response JSON\n",
    "            data = response.json()\n",
    "            \n",
    "            # Process and extract the desired data from the JSON\n",
    "            \n",
    "            # Return the extracted data\n",
    "            return data\n",
    "            \n",
    "        else:\n",
    "            print(\"Error: Request failed with status code\", response.status_code)\n",
    "    except requests.exceptions.RequestException as e:\n",
    "        print(\"Error: \", e)\n",
    "\n",
    "# Call the function to retrieve MLB data\n",
    "mlb_data = get_mlb_data()\n",
    "\n",
    "# Process and use the retrieved data as needed\n",
    "# ...\n"
   ]
  }
 ],
 "metadata": {
  "language_info": {
   "name": "python"
  },
  "orig_nbformat": 4
 },
 "nbformat": 4,
 "nbformat_minor": 2
}
